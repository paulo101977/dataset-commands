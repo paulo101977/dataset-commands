{
 "cells": [
  {
   "cell_type": "markdown",
   "id": "7e886384-3c4f-450c-8538-5149128d15e1",
   "metadata": {},
   "source": [
    "### Converte o modelo em um modelo Tensorflow Lite"
   ]
  },
  {
   "cell_type": "code",
   "execution_count": 1,
   "id": "85b42279-5187-44c9-8ede-8089d4fb2b6a",
   "metadata": {},
   "outputs": [
    {
     "name": "stdout",
     "output_type": "stream",
     "text": [
      "INFO:tensorflow:Assets written to: ./temp/saved_model\\assets\n"
     ]
    },
    {
     "name": "stderr",
     "output_type": "stream",
     "text": [
      "INFO:tensorflow:Assets written to: ./temp/saved_model\\assets\n"
     ]
    },
    {
     "name": "stdout",
     "output_type": "stream",
     "text": [
      "Saved artifact at './temp/saved_model'. The following endpoints are available:\n",
      "\n",
      "* Endpoint 'serve'\n",
      "  args_0 (POSITIONAL_ONLY): TensorSpec(shape=(None, 186, 129, 1), dtype=tf.float32, name='input_layer')\n",
      "Output Type:\n",
      "  TensorSpec(shape=(None, 35), dtype=tf.float32, name=None)\n",
      "Captures:\n",
      "  2922969048336: TensorSpec(shape=(1, 1, 1), dtype=tf.float32, name=None)\n",
      "  2922969045840: TensorSpec(shape=(1, 1, 1), dtype=tf.float32, name=None)\n",
      "  2922967772304: TensorSpec(shape=(), dtype=tf.resource, name=None)\n",
      "  2922967773072: TensorSpec(shape=(), dtype=tf.resource, name=None)\n",
      "  2922967772688: TensorSpec(shape=(), dtype=tf.resource, name=None)\n",
      "  2922967773840: TensorSpec(shape=(), dtype=tf.resource, name=None)\n",
      "  2922967775184: TensorSpec(shape=(), dtype=tf.resource, name=None)\n",
      "  2922967776144: TensorSpec(shape=(), dtype=tf.resource, name=None)\n",
      "  2922967777104: TensorSpec(shape=(), dtype=tf.resource, name=None)\n",
      "  2922969039504: TensorSpec(shape=(), dtype=tf.resource, name=None)\n",
      "{'serving_default': {'inputs': ['input_layer'], 'outputs': ['output_0']}}\n"
     ]
    }
   ],
   "source": [
    "import tensorflow as tf\n",
    "import os\n",
    "import ipynbname\n",
    "\n",
    "nb_fname = ipynbname.name()\n",
    "nb_path = ipynbname.path()\n",
    "\n",
    "os.chdir('{0}/..'.format(os.path.split(nb_path)[0]))\n",
    "\n",
    "model = tf.keras.models.load_model('./checkpoints/model.keras')\n",
    "# Export the keras model to a saved model format\n",
    "model.export(\"./temp/saved_model\")\n",
    "\n",
    "# Convert the saved model to TensorFlow Lite\n",
    "converter = tf.lite.TFLiteConverter.from_saved_model(\"./temp/saved_model\")\n",
    "converter.optimizations = [tf.lite.Optimize.DEFAULT]\n",
    "tflite_model = converter.convert()\n",
    "\n",
    "interpreter = tf.lite.Interpreter(model_content=tflite_model)\n",
    "signatures = interpreter.get_signature_list()\n",
    "print(signatures)\n",
    "\n",
    "# converter = tf.lite.TFLiteConverter.from_keras_model(model)\n",
    "# tflite_model = converter.convert()\n",
    "\n",
    "# if not os.path.exists(\"./model-lite\"): \n",
    "#     os.makedirs(\"./model-lite\")\n",
    "\n",
    "# # Save the model.\n",
    "# with open('./model-lite/model.tflite', 'wb') as f:\n",
    "#   f.write(tflite_model)"
   ]
  },
  {
   "cell_type": "markdown",
   "id": "07dbaee8-c5fb-428d-90c6-10bb55436bd4",
   "metadata": {},
   "source": [
    "### Converte o modelo para um Array em C"
   ]
  },
  {
   "cell_type": "code",
   "execution_count": 3,
   "id": "d4eb3d41-8228-496f-b732-df4c92d07331",
   "metadata": {},
   "outputs": [],
   "source": [
    "!xxd -i ./models/model.tflite > ./models/model_data.cc"
   ]
  },
  {
   "cell_type": "code",
   "execution_count": null,
   "id": "2724e5c0-d4b5-4000-b82c-4620043d481f",
   "metadata": {},
   "outputs": [],
   "source": []
  }
 ],
 "metadata": {
  "kernelspec": {
   "display_name": "Python 3 (ipykernel)",
   "language": "python",
   "name": "python3"
  },
  "language_info": {
   "codemirror_mode": {
    "name": "ipython",
    "version": 3
   },
   "file_extension": ".py",
   "mimetype": "text/x-python",
   "name": "python",
   "nbconvert_exporter": "python",
   "pygments_lexer": "ipython3",
   "version": "3.11.8"
  }
 },
 "nbformat": 4,
 "nbformat_minor": 5
}
