{
 "cells": [
  {
   "cell_type": "code",
   "execution_count": 1,
   "id": "99f60fa0-b67f-490e-b200-a21850d904fe",
   "metadata": {},
   "outputs": [
    {
     "name": "stdout",
     "output_type": "stream",
     "text": [
      "Python 3.11.8\n"
     ]
    }
   ],
   "source": [
    "!python --version"
   ]
  },
  {
   "cell_type": "markdown",
   "id": "223e54a4-a371-4412-9dac-1825c64490cd",
   "metadata": {},
   "source": [
    "### Inferência com Tensorflow Lite"
   ]
  },
  {
   "cell_type": "code",
   "execution_count": 2,
   "id": "c16ee6c0-5604-425c-9f45-e89b1043f627",
   "metadata": {},
   "outputs": [
    {
     "ename": "ModuleNotFoundError",
     "evalue": "No module named 'tflite_support.metadata_writers'",
     "output_type": "error",
     "traceback": [
      "\u001b[1;31m---------------------------------------------------------------------------\u001b[0m",
      "\u001b[1;31mModuleNotFoundError\u001b[0m                       Traceback (most recent call last)",
      "Cell \u001b[1;32mIn[2], line 1\u001b[0m\n\u001b[1;32m----> 1\u001b[0m \u001b[38;5;28;01mfrom\u001b[39;00m \u001b[38;5;21;01mtflite_support\u001b[39;00m\u001b[38;5;21;01m.\u001b[39;00m\u001b[38;5;21;01mmetadata_writers\u001b[39;00m \u001b[38;5;28;01mimport\u001b[39;00m audio_classifier\n\u001b[0;32m      2\u001b[0m \u001b[38;5;28;01mfrom\u001b[39;00m \u001b[38;5;21;01mtflite_support\u001b[39;00m\u001b[38;5;21;01m.\u001b[39;00m\u001b[38;5;21;01mmetadata_writers\u001b[39;00m \u001b[38;5;28;01mimport\u001b[39;00m metadata_info\n\u001b[0;32m      3\u001b[0m \u001b[38;5;28;01mfrom\u001b[39;00m \u001b[38;5;21;01mtflite_support\u001b[39;00m\u001b[38;5;21;01m.\u001b[39;00m\u001b[38;5;21;01mmetadata_writers\u001b[39;00m \u001b[38;5;28;01mimport\u001b[39;00m writer_utils\n",
      "\u001b[1;31mModuleNotFoundError\u001b[0m: No module named 'tflite_support.metadata_writers'"
     ]
    }
   ],
   "source": [
    "from tflite_support.metadata_writers import audio_classifier\n",
    "from tflite_support.metadata_writers import metadata_info\n",
    "from tflite_support.metadata_writers import writer_utils\n",
    "import json\n",
    "import os\n",
    "import ipynbname\n",
    "\n",
    "nb_fname = ipynbname.name()\n",
    "nb_path = ipynbname.path()\n",
    "\n",
    "os.chdir('{0}/..'.format(os.path.split(nb_path)[0]))\n",
    "\n",
    "\n",
    "# Get a WAV file for inference and list of labels from the model\n",
    "SAVE_PATH = \"./models/\"\n",
    "TFLITE_FILENAME = \"model.tflite\"\n"
   ]
  },
  {
   "cell_type": "code",
   "execution_count": null,
   "id": "b8658cb1-2218-45c1-87ea-9e8504c54da1",
   "metadata": {},
   "outputs": [],
   "source": []
  }
 ],
 "metadata": {
  "kernelspec": {
   "display_name": "Python 3 (ipykernel)",
   "language": "python",
   "name": "python3"
  },
  "language_info": {
   "codemirror_mode": {
    "name": "ipython",
    "version": 3
   },
   "file_extension": ".py",
   "mimetype": "text/x-python",
   "name": "python",
   "nbconvert_exporter": "python",
   "pygments_lexer": "ipython3",
   "version": "3.11.8"
  }
 },
 "nbformat": 4,
 "nbformat_minor": 5
}
